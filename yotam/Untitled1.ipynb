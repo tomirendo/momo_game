{
 "cells": [
  {
   "cell_type": "code",
   "execution_count": 22,
   "metadata": {
    "collapsed": true
   },
   "outputs": [],
   "source": [
    "import json"
   ]
  },
  {
   "cell_type": "code",
   "execution_count": 24,
   "metadata": {
    "collapsed": false
   },
   "outputs": [],
   "source": [
    "with open(\"../RPG/example_dialog.json\") as f:\n",
    "    dialog = json.loads(f.read())"
   ]
  },
  {
   "cell_type": "code",
   "execution_count": 25,
   "metadata": {
    "collapsed": false
   },
   "outputs": [
    {
     "data": {
      "text/plain": [
       "{'answers': [{'answer_index': 0, 'answer_text': 'eat', 'next_dialog': None},\n",
       "  {'answer_index': 1,\n",
       "   'answer_text': 'Move it',\n",
       "   'next_dialog': {'answers': [{'answer_index': 0,\n",
       "      'answer_text': 'Yes! move it move it',\n",
       "      'next_dialog': None},\n",
       "     {'answer_index': 1, 'answer_text': 'No...', 'next_dialog': None}],\n",
       "    'text': 'Move it move it?'}}],\n",
       " 'text': 'I like to'}"
      ]
     },
     "execution_count": 25,
     "metadata": {},
     "output_type": "execute_result"
    }
   ],
   "source": [
    "dialog"
   ]
  },
  {
   "cell_type": "code",
   "execution_count": 17,
   "metadata": {
    "collapsed": false
   },
   "outputs": [],
   "source": [
    "d= {\n",
    "    \"text\" : \"I like to\",\n",
    "    \"answers\" : [\n",
    "           {\n",
    "                \"answer_index\" : 0,\n",
    "                \"answer_text\" : \"eat\",\n",
    "                \"next_dialog\" : None,\n",
    "            },\n",
    "            {\n",
    "                \"answer_index\" : 1,\n",
    "                \"answer_text\" : \"Move it\",\n",
    "                \"next_dialog\" : { \"text\" : \"Move it move it?\",\n",
    "                                  \"answers\" : [\n",
    "                                        {\n",
    "                                            \"answer_index\" : 0,\n",
    "                                            \"answer_text\" : \"Yes! move it move it\",\n",
    "                                        },\n",
    "                                        {\n",
    "                                            \"answer_index\" : 1,\n",
    "                                            \"answer_text\" : \"No...\",\n",
    "                                            \"next_dialog\" :None \n",
    "                                        }\n",
    "                                    ]\n",
    "                              },\n",
    "            },\n",
    "  ]\n",
    "\n",
    "}"
   ]
  },
  {
   "cell_type": "code",
   "execution_count": 20,
   "metadata": {
    "collapsed": false
   },
   "outputs": [],
   "source": [
    "from pyperclip import copy\n",
    "copy(json.dumps(d, indent=True))"
   ]
  },
  {
   "cell_type": "code",
   "execution_count": 26,
   "metadata": {
    "collapsed": true
   },
   "outputs": [],
   "source": [
    "txt = \"\"\"Momo: Good evening.\n",
    "Cassiopea: -\n",
    "Momo: um, hi?\n",
    "Cassiopea: -\n",
    "Momo: Oh, so you're only an ordinary tortoise after all. What a pity, how wonderful it could have been to have someone to talk to.\n",
    "Cassiopea: HM.\n",
    "Momo: Oh, so you do talk! What is your name? \n",
    "Cassiopea: CASSIOPEIA.\n",
    "Momo: why didn’t you say so in the first place?\n",
    "Cassiopea: HAVING DINNER.\n",
    "Momo: Oh, I'm so sorry. I didn't mean to disturb you. All I'd like to know is, what is going on around here?\n",
    "Cassiopea: THE STARTS SHINE BRIGHT.\n",
    "Momo: Yes, thank you, I can see that. But I meant – why is everybody so sad lately, rushing around all the time?\n",
    "Cassiopea: WE DON’T CARE.\n",
    "Momo: But, do you know?\n",
    "Cassiopea: NOT THAT IT MATERS, BUT YES AND NO.\n",
    "Momo: Well, if it doesn’t matter, you could tell me. After all, it will make no difference.\n",
    "Cassiopea: HA, CLEVER CHILD. WE DON’T KNOW OURSELVES, BUT YOU CAN ASK THE ADMINISTRATOR OF TIME.\n",
    "Momo: How can I get to him?\n",
    "Cassiopea: BY CHOICE.\n",
    "Momo: And where shall I turn?\n",
    "Cassiopea: FAR AWAY, BEYOND TIME AND SPACE.\n",
    "Momo: Thanks, that was nice of you.\n",
    "Cassiopea: NOT AT ALL.\"\"\""
   ]
  },
  {
   "cell_type": "code",
   "execution_count": 31,
   "metadata": {
    "collapsed": false
   },
   "outputs": [],
   "source": [
    "lines = [\"-\"] + [i.split(\": \")[1] for i in txt.split(\"\\n\")]"
   ]
  },
  {
   "cell_type": "code",
   "execution_count": 32,
   "metadata": {
    "collapsed": true
   },
   "outputs": [
    {
     "data": {
      "text/plain": [
       "['-',\n",
       " 'Good evening.',\n",
       " '-',\n",
       " 'um, hi?',\n",
       " '-',\n",
       " \"Oh, so you're only an ordinary tortoise after all. What a pity, how wonderful it could have been to have someone to talk to.\",\n",
       " 'HM.',\n",
       " 'Oh, so you do talk! What is your name? ',\n",
       " 'CASSIOPEIA.',\n",
       " 'why didn’t you say so in the first place?',\n",
       " 'HAVING DINNER.',\n",
       " \"Oh, I'm so sorry. I didn't mean to disturb you. All I'd like to know is, what is going on around here?\",\n",
       " 'THE STARTS SHINE BRIGHT.',\n",
       " 'Yes, thank you, I can see that. But I meant – why is everybody so sad lately, rushing around all the time?',\n",
       " 'WE DON’T CARE.',\n",
       " 'But, do you know?',\n",
       " 'NOT THAT IT MATERS, BUT YES AND NO.',\n",
       " 'Well, if it doesn’t matter, you could tell me. After all, it will make no difference.',\n",
       " 'HA, CLEVER CHILD. WE DON’T KNOW OURSELVES, BUT YOU CAN ASK THE ADMINISTRATOR OF TIME.',\n",
       " 'How can I get to him?',\n",
       " 'BY CHOICE.',\n",
       " 'And where shall I turn?',\n",
       " 'FAR AWAY, BEYOND TIME AND SPACE.',\n",
       " 'Thanks, that was nice of you.',\n",
       " 'NOT AT ALL.']"
      ]
     },
     "execution_count": 32,
     "metadata": {},
     "output_type": "execute_result"
    }
   ],
   "source": [
    "lines"
   ]
  },
  {
   "cell_type": "code",
   "execution_count": 39,
   "metadata": {
    "collapsed": true
   },
   "outputs": [],
   "source": [
    "d = {}\n",
    "current_dict = d\n",
    "for i,j in zip(*[iter(lines)]*2):\n",
    "    d2 = dict()\n",
    "    current_dict['text'] = i\n",
    "    current_dict['answers'] = [{'answer_text' : j,\n",
    "                    'next_dialog' : d2}]\n",
    "    current_dict = d2"
   ]
  },
  {
   "cell_type": "code",
   "execution_count": 40,
   "metadata": {
    "collapsed": false
   },
   "outputs": [],
   "source": [
    "from json import dumps"
   ]
  },
  {
   "cell_type": "code",
   "execution_count": 41,
   "metadata": {
    "collapsed": false
   },
   "outputs": [],
   "source": [
    "copy(dumps(d, indent=True))"
   ]
  },
  {
   "cell_type": "code",
   "execution_count": null,
   "metadata": {
    "collapsed": true
   },
   "outputs": [],
   "source": []
  }
 ],
 "metadata": {
  "kernelspec": {
   "display_name": "Python 3.5",
   "language": "python",
   "name": "python3.5"
  },
  "language_info": {
   "codemirror_mode": {
    "name": "ipython",
    "version": 3
   },
   "file_extension": ".py",
   "mimetype": "text/x-python",
   "name": "python",
   "nbconvert_exporter": "python",
   "pygments_lexer": "ipython3",
   "version": "3.5.0"
  }
 },
 "nbformat": 4,
 "nbformat_minor": 0
}
