{
 "cells": [
  {
   "cell_type": "code",
   "execution_count": 22,
   "metadata": {
    "collapsed": true
   },
   "outputs": [],
   "source": [
    "import json"
   ]
  },
  {
   "cell_type": "code",
   "execution_count": 24,
   "metadata": {
    "collapsed": false
   },
   "outputs": [],
   "source": [
    "with open(\"../RPG/example_dialog.json\") as f:\n",
    "    dialog = json.loads(f.read())"
   ]
  },
  {
   "cell_type": "code",
   "execution_count": 25,
   "metadata": {
    "collapsed": false
   },
   "outputs": [
    {
     "data": {
      "text/plain": [
       "{'answers': [{'answer_index': 0, 'answer_text': 'eat', 'next_dialog': None},\n",
       "  {'answer_index': 1,\n",
       "   'answer_text': 'Move it',\n",
       "   'next_dialog': {'answers': [{'answer_index': 0,\n",
       "      'answer_text': 'Yes! move it move it',\n",
       "      'next_dialog': None},\n",
       "     {'answer_index': 1, 'answer_text': 'No...', 'next_dialog': None}],\n",
       "    'text': 'Move it move it?'}}],\n",
       " 'text': 'I like to'}"
      ]
     },
     "execution_count": 25,
     "metadata": {},
     "output_type": "execute_result"
    }
   ],
   "source": [
    "dialog"
   ]
  },
  {
   "cell_type": "code",
   "execution_count": 17,
   "metadata": {
    "collapsed": false
   },
   "outputs": [],
   "source": [
    "d= {\n",
    "    \"text\" : \"I like to\",\n",
    "    \"answers\" : [\n",
    "           {\n",
    "                \"answer_index\" : 0,\n",
    "                \"answer_text\" : \"eat\",\n",
    "                \"next_dialog\" : None,\n",
    "            },\n",
    "            {\n",
    "                \"answer_index\" : 1,\n",
    "                \"answer_text\" : \"Move it\",\n",
    "                \"next_dialog\" : { \"text\" : \"Move it move it?\",\n",
    "                                  \"answers\" : [\n",
    "                                        {\n",
    "                                            \"answer_index\" : 0,\n",
    "                                            \"answer_text\" : \"Yes! move it move it\",\n",
    "                                        },\n",
    "                                        {\n",
    "                                            \"answer_index\" : 1,\n",
    "                                            \"answer_text\" : \"No...\",\n",
    "                                            \"next_dialog\" :None \n",
    "                                        }\n",
    "                                    ]\n",
    "                              },\n",
    "            },\n",
    "  ]\n",
    "\n",
    "}"
   ]
  },
  {
   "cell_type": "code",
   "execution_count": 20,
   "metadata": {
    "collapsed": false
   },
   "outputs": [],
   "source": [
    "from pyperclip import copy\n",
    "copy(json.dumps(d, indent=True))"
   ]
  },
  {
   "cell_type": "code",
   "execution_count": null,
   "metadata": {
    "collapsed": true
   },
   "outputs": [],
   "source": []
  }
 ],
 "metadata": {
  "kernelspec": {
   "display_name": "Python 3.5",
   "language": "python",
   "name": "python3.5"
  },
  "language_info": {
   "codemirror_mode": {
    "name": "ipython",
    "version": 3
   },
   "file_extension": ".py",
   "mimetype": "text/x-python",
   "name": "python",
   "nbconvert_exporter": "python",
   "pygments_lexer": "ipython3",
   "version": "3.5.0"
  }
 },
 "nbformat": 4,
 "nbformat_minor": 0
}
